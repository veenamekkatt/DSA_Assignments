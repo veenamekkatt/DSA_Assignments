{
  "nbformat": 4,
  "nbformat_minor": 0,
  "metadata": {
    "colab": {
      "name": "MeasureOfCentralTendencyAndDispersion.ipynb",
      "provenance": [],
      "toc_visible": true,
      "authorship_tag": "ABX9TyMRb1h/qCgJ4IZoJKgwBgxA",
      "include_colab_link": true
    },
    "kernelspec": {
      "name": "python3",
      "display_name": "Python 3"
    },
    "language_info": {
      "name": "python"
    }
  },
  "cells": [
    {
      "cell_type": "markdown",
      "metadata": {
        "id": "view-in-github",
        "colab_type": "text"
      },
      "source": [
        "<a href=\"https://colab.research.google.com/github/veenamekkatt/DSA_Assignments/blob/main/MeasureOfCentralTendencyAndDispersion.ipynb\" target=\"_parent\"><img src=\"https://colab.research.google.com/assets/colab-badge.svg\" alt=\"Open In Colab\"/></a>"
      ]
    },
    {
      "cell_type": "code",
      "metadata": {
        "id": "Amv9MJO_zXdi"
      },
      "source": [
        "import pandas as pd\n",
        "import numpy as np\n",
        "import matplotlib.pyplot as plt\n",
        "import seaborn as sns"
      ],
      "execution_count": 1,
      "outputs": []
    },
    {
      "cell_type": "code",
      "metadata": {
        "colab": {
          "base_uri": "https://localhost:8080/",
          "height": 224
        },
        "id": "ciSSN8V40Pbh",
        "outputId": "fb59f05b-493f-47ac-97e8-e1d524428874"
      },
      "source": [
        "studentData=pd.read_csv(\"/content/StudentsPerformance.csv\")\n",
        "studentData.head()"
      ],
      "execution_count": 3,
      "outputs": [
        {
          "output_type": "execute_result",
          "data": {
            "text/html": [
              "<div>\n",
              "<style scoped>\n",
              "    .dataframe tbody tr th:only-of-type {\n",
              "        vertical-align: middle;\n",
              "    }\n",
              "\n",
              "    .dataframe tbody tr th {\n",
              "        vertical-align: top;\n",
              "    }\n",
              "\n",
              "    .dataframe thead th {\n",
              "        text-align: right;\n",
              "    }\n",
              "</style>\n",
              "<table border=\"1\" class=\"dataframe\">\n",
              "  <thead>\n",
              "    <tr style=\"text-align: right;\">\n",
              "      <th></th>\n",
              "      <th>gender</th>\n",
              "      <th>race/ethnicity</th>\n",
              "      <th>parental level of education</th>\n",
              "      <th>lunch</th>\n",
              "      <th>test preparation course</th>\n",
              "      <th>math score</th>\n",
              "      <th>reading score</th>\n",
              "      <th>writing score</th>\n",
              "    </tr>\n",
              "  </thead>\n",
              "  <tbody>\n",
              "    <tr>\n",
              "      <th>0</th>\n",
              "      <td>female</td>\n",
              "      <td>group C</td>\n",
              "      <td>some high school</td>\n",
              "      <td>free/reduced</td>\n",
              "      <td>none</td>\n",
              "      <td>0</td>\n",
              "      <td>17</td>\n",
              "      <td>10</td>\n",
              "    </tr>\n",
              "    <tr>\n",
              "      <th>1</th>\n",
              "      <td>female</td>\n",
              "      <td>group B</td>\n",
              "      <td>high school</td>\n",
              "      <td>free/reduced</td>\n",
              "      <td>none</td>\n",
              "      <td>8</td>\n",
              "      <td>24</td>\n",
              "      <td>23</td>\n",
              "    </tr>\n",
              "    <tr>\n",
              "      <th>2</th>\n",
              "      <td>female</td>\n",
              "      <td>group B</td>\n",
              "      <td>some high school</td>\n",
              "      <td>free/reduced</td>\n",
              "      <td>none</td>\n",
              "      <td>18</td>\n",
              "      <td>32</td>\n",
              "      <td>28</td>\n",
              "    </tr>\n",
              "    <tr>\n",
              "      <th>3</th>\n",
              "      <td>female</td>\n",
              "      <td>group B</td>\n",
              "      <td>some college</td>\n",
              "      <td>standard</td>\n",
              "      <td>none</td>\n",
              "      <td>11</td>\n",
              "      <td>38</td>\n",
              "      <td>32</td>\n",
              "    </tr>\n",
              "    <tr>\n",
              "      <th>4</th>\n",
              "      <td>female</td>\n",
              "      <td>group C</td>\n",
              "      <td>some college</td>\n",
              "      <td>free/reduced</td>\n",
              "      <td>none</td>\n",
              "      <td>22</td>\n",
              "      <td>39</td>\n",
              "      <td>33</td>\n",
              "    </tr>\n",
              "  </tbody>\n",
              "</table>\n",
              "</div>"
            ],
            "text/plain": [
              "   gender race/ethnicity  ... reading score writing score\n",
              "0  female        group C  ...            17            10\n",
              "1  female        group B  ...            24            23\n",
              "2  female        group B  ...            32            28\n",
              "3  female        group B  ...            38            32\n",
              "4  female        group C  ...            39            33\n",
              "\n",
              "[5 rows x 8 columns]"
            ]
          },
          "metadata": {},
          "execution_count": 3
        }
      ]
    },
    {
      "cell_type": "code",
      "metadata": {
        "id": "PqGPcYhu05Ca"
      },
      "source": [
        "# Find out how many males and females participated in the test."
      ],
      "execution_count": 4,
      "outputs": []
    },
    {
      "cell_type": "code",
      "metadata": {
        "colab": {
          "base_uri": "https://localhost:8080/",
          "height": 112
        },
        "id": "M9jnyLwv1UMl",
        "outputId": "c6559cce-dcff-4df6-bb75-ef6e6a2ece3d"
      },
      "source": [
        "student_gender_data=studentData.groupby('gender').size().reset_index(name='counts')   \n",
        "student_gender_data        "
      ],
      "execution_count": 5,
      "outputs": [
        {
          "output_type": "execute_result",
          "data": {
            "text/html": [
              "<div>\n",
              "<style scoped>\n",
              "    .dataframe tbody tr th:only-of-type {\n",
              "        vertical-align: middle;\n",
              "    }\n",
              "\n",
              "    .dataframe tbody tr th {\n",
              "        vertical-align: top;\n",
              "    }\n",
              "\n",
              "    .dataframe thead th {\n",
              "        text-align: right;\n",
              "    }\n",
              "</style>\n",
              "<table border=\"1\" class=\"dataframe\">\n",
              "  <thead>\n",
              "    <tr style=\"text-align: right;\">\n",
              "      <th></th>\n",
              "      <th>gender</th>\n",
              "      <th>counts</th>\n",
              "    </tr>\n",
              "  </thead>\n",
              "  <tbody>\n",
              "    <tr>\n",
              "      <th>0</th>\n",
              "      <td>female</td>\n",
              "      <td>518</td>\n",
              "    </tr>\n",
              "    <tr>\n",
              "      <th>1</th>\n",
              "      <td>male</td>\n",
              "      <td>482</td>\n",
              "    </tr>\n",
              "  </tbody>\n",
              "</table>\n",
              "</div>"
            ],
            "text/plain": [
              "   gender  counts\n",
              "0  female     518\n",
              "1    male     482"
            ]
          },
          "metadata": {},
          "execution_count": 5
        }
      ]
    },
    {
      "cell_type": "code",
      "metadata": {
        "id": "R4S17XRb1t4O"
      },
      "source": [
        "# What do you think about the students' parental level of education"
      ],
      "execution_count": 6,
      "outputs": []
    },
    {
      "cell_type": "code",
      "metadata": {
        "colab": {
          "base_uri": "https://localhost:8080/",
          "height": 421
        },
        "id": "dN-J92ry2LQT",
        "outputId": "74ff8b53-e620-48fa-aa2a-2f116cf4032e"
      },
      "source": [
        "parent_data=studentData.groupby('parental level of education').size().reset_index(name='counts')   \n",
        "parent_data \n",
        "\n",
        "\n",
        "plt.figure(figsize=(12,6))\n",
        "sns.barplot(x= 'parental level of education',y = 'counts',data = parent_data)\n",
        "plt.yticks(np.arange(0,250,25))\n",
        "plt.grid(True)\n",
        "plt.xlabel(\"Parental level of education\")\n",
        "plt.ylabel(\"Count\")\n",
        "plt.title(\"parental level of education\")"
      ],
      "execution_count": 15,
      "outputs": [
        {
          "output_type": "execute_result",
          "data": {
            "text/plain": [
              "Text(0.5, 1.0, 'parental level of education')"
            ]
          },
          "metadata": {},
          "execution_count": 15
        },
        {
          "output_type": "display_data",
          "data": {
            "image/png": "[encoded data removed]",
            "text/plain": [
              "<Figure size 864x432 with 1 Axes>"
            ]
          },
          "metadata": {
            "needs_background": "light"
          }
        }
      ]
    },
    {
      "cell_type": "markdown",
      "metadata": {
        "id": "49kr0DMu3WH0"
      },
      "source": [
        "From the Parental Education data it is clear that 60-70 percentage of the parents are graduates or went to some college. 30-40 persontage parents has highschool education."
      ]
    },
    {
      "cell_type": "code",
      "metadata": {
        "id": "jn8MVz1E5oRi"
      },
      "source": [
        "#3. Who scores the most on average for math, reading and writing based on\n",
        "#   ● Gender\n",
        "#   ● Test preparation course"
      ],
      "execution_count": 18,
      "outputs": []
    },
    {
      "cell_type": "code",
      "metadata": {
        "colab": {
          "base_uri": "https://localhost:8080/"
        },
        "id": "gCiER7xs596x",
        "outputId": "d3aebc5f-25d2-4ecd-d725-43d718ce52b8"
      },
      "source": [
        " mathAvgGenderWise = studentData.groupby(['gender'])['math score'].mean()\n",
        " mathAvgTestPrepWise = studentData.groupby(['test preparation course'])['math score'].mean()\n",
        " ReadingAvgGenderWise = studentData.groupby(['gender'])['reading score'].mean()\n",
        " ReadingAvgTestPrepWise = studentData.groupby(['test preparation course'])['reading score'].mean()\n",
        " WritingAvgGenderWise = studentData.groupby(['gender'])['writing score'].mean()\n",
        " WritingAvgTestPrepWise = studentData.groupby(['test preparation course'])['writing score'].mean()\n",
        " print(mathAvgGenderWise)\n",
        " print(ReadingAvgGenderWise)\n",
        " print(WritingAvgGenderWise)\n",
        " \n",
        " print(mathAvgTestPrepWise) \n",
        " print(ReadingAvgTestPrepWise)\n",
        " print(WritingAvgTestPrepWise)"
      ],
      "execution_count": 26,
      "outputs": [
        {
          "output_type": "stream",
          "name": "stdout",
          "text": [
            "gender\n",
            "female    63.376448\n",
            "male      68.821577\n",
            "Name: math score, dtype: float64\n",
            "gender\n",
            "female    72.590734\n",
            "male      65.545643\n",
            "Name: reading score, dtype: float64\n",
            "gender\n",
            "female    72.467181\n",
            "male      63.446058\n",
            "Name: writing score, dtype: float64\n",
            "test preparation course\n",
            "completed    69.96648\n",
            "none         63.78972\n",
            "Name: math score, dtype: float64\n",
            "test preparation course\n",
            "completed    74.175978\n",
            "none         66.417445\n",
            "Name: reading score, dtype: float64\n",
            "test preparation course\n",
            "completed    74.684358\n",
            "none         64.457944\n",
            "Name: writing score, dtype: float64\n"
          ]
        }
      ]
    },
    {
      "cell_type": "markdown",
      "metadata": {
        "id": "LQ4iT6Iw9XMt"
      },
      "source": [
        "Conclusion :\n",
        "*   For Reading and Writing Female average score is more than male average , but for maths male has higher average score\n",
        "*   The students who has completed the test preparation course has higher average for maths , reading and writing\n",
        "\n"
      ]
    },
    {
      "cell_type": "code",
      "metadata": {
        "id": "nH-utFzq-1fi"
      },
      "source": [
        "#4 What do you think about the scoring variation for math,reading,writing based on\n",
        "# Gender\n",
        "# Test preparation course"
      ],
      "execution_count": 28,
      "outputs": []
    },
    {
      "cell_type": "code",
      "metadata": {
        "colab": {
          "base_uri": "https://localhost:8080/"
        },
        "id": "PUrSXeKA_4OP",
        "outputId": "28ccebdc-a6a5-48c1-85ca-ddfbb1db9993"
      },
      "source": [
        "def variance(data, ddof=0):\n",
        "...     n = len(data)\n",
        "...     mean = sum(data) / n\n",
        "...     return sum((x - mean) ** 2 for x in data) / (n - ddof)\n",
        "\n",
        "variancevalue=variance(studentData['math score'])\n",
        "variancevalue"
      ],
      "execution_count": 31,
      "outputs": [
        {
          "output_type": "execute_result",
          "data": {
            "text/plain": [
              "242.1689989999999"
            ]
          },
          "metadata": {},
          "execution_count": 31
        }
      ]
    },
    {
      "cell_type": "code",
      "metadata": {
        "id": "OsWgwDm6AuPd"
      },
      "source": [
        "#5 The management needs your help to give bonus points to the top 25% of  students based on their maths score, so how will you help the management to achieve this."
      ],
      "execution_count": 32,
      "outputs": []
    },
    {
      "cell_type": "code",
      "metadata": {
        "colab": {
          "base_uri": "https://localhost:8080/",
          "height": 701
        },
        "id": "1Cy07ehfA2Cz",
        "outputId": "af3e2352-4c2a-4aac-8b4e-065a1fa3d216"
      },
      "source": [
        "  \n",
        "print(\"mathscore : \", studentData['math score'])  \n",
        "print(\"Q1 quantile of students : \", np.quantile(studentData['math score'], .25, interpolation='midpoint'))\n",
        "print(\"Q2 quantile of studnets : \", np.quantile(studentData['math score'], .50, interpolation='midpoint'))\n",
        "print(\"Q3 quantile of students : \", np.quantile(studentData['math score'], .75, interpolation='midpoint'))\n",
        "\n",
        "# students with more tha 77 will fall under the top 25% of students based on their maths score\n",
        "\n",
        "data=studentData[studentData['math score']>77]\n",
        "data"
      ],
      "execution_count": 40,
      "outputs": [
        {
          "output_type": "stream",
          "name": "stdout",
          "text": [
            "mathscore :  0        0\n",
            "1        8\n",
            "2       18\n",
            "3       11\n",
            "4       22\n",
            "      ... \n",
            "995     99\n",
            "996    100\n",
            "997    100\n",
            "998    100\n",
            "999    100\n",
            "Name: math score, Length: 1000, dtype: int64\n",
            "Q1 quantile of students :  57.0\n",
            "Q2 quantile of studnets :  66.0\n",
            "Q3 quantile of students :  77.0\n"
          ]
        },
        {
          "output_type": "execute_result",
          "data": {
            "text/html": [
              "<div>\n",
              "<style scoped>\n",
              "    .dataframe tbody tr th:only-of-type {\n",
              "        vertical-align: middle;\n",
              "    }\n",
              "\n",
              "    .dataframe tbody tr th {\n",
              "        vertical-align: top;\n",
              "    }\n",
              "\n",
              "    .dataframe thead th {\n",
              "        text-align: right;\n",
              "    }\n",
              "</style>\n",
              "<table border=\"1\" class=\"dataframe\">\n",
              "  <thead>\n",
              "    <tr style=\"text-align: right;\">\n",
              "      <th></th>\n",
              "      <th>gender</th>\n",
              "      <th>race/ethnicity</th>\n",
              "      <th>parental level of education</th>\n",
              "      <th>lunch</th>\n",
              "      <th>test preparation course</th>\n",
              "      <th>math score</th>\n",
              "      <th>reading score</th>\n",
              "      <th>writing score</th>\n",
              "    </tr>\n",
              "  </thead>\n",
              "  <tbody>\n",
              "    <tr>\n",
              "      <th>430</th>\n",
              "      <td>female</td>\n",
              "      <td>group A</td>\n",
              "      <td>some college</td>\n",
              "      <td>standard</td>\n",
              "      <td>completed</td>\n",
              "      <td>78</td>\n",
              "      <td>87</td>\n",
              "      <td>91</td>\n",
              "    </tr>\n",
              "    <tr>\n",
              "      <th>431</th>\n",
              "      <td>female</td>\n",
              "      <td>group B</td>\n",
              "      <td>bachelor's degree</td>\n",
              "      <td>free/reduced</td>\n",
              "      <td>none</td>\n",
              "      <td>78</td>\n",
              "      <td>79</td>\n",
              "      <td>76</td>\n",
              "    </tr>\n",
              "    <tr>\n",
              "      <th>432</th>\n",
              "      <td>female</td>\n",
              "      <td>group D</td>\n",
              "      <td>bachelor's degree</td>\n",
              "      <td>standard</td>\n",
              "      <td>none</td>\n",
              "      <td>78</td>\n",
              "      <td>82</td>\n",
              "      <td>79</td>\n",
              "    </tr>\n",
              "    <tr>\n",
              "      <th>433</th>\n",
              "      <td>female</td>\n",
              "      <td>group D</td>\n",
              "      <td>high school</td>\n",
              "      <td>standard</td>\n",
              "      <td>none</td>\n",
              "      <td>78</td>\n",
              "      <td>81</td>\n",
              "      <td>80</td>\n",
              "    </tr>\n",
              "    <tr>\n",
              "      <th>434</th>\n",
              "      <td>female</td>\n",
              "      <td>group D</td>\n",
              "      <td>bachelor's degree</td>\n",
              "      <td>free/reduced</td>\n",
              "      <td>none</td>\n",
              "      <td>78</td>\n",
              "      <td>90</td>\n",
              "      <td>93</td>\n",
              "    </tr>\n",
              "    <tr>\n",
              "      <th>...</th>\n",
              "      <td>...</td>\n",
              "      <td>...</td>\n",
              "      <td>...</td>\n",
              "      <td>...</td>\n",
              "      <td>...</td>\n",
              "      <td>...</td>\n",
              "      <td>...</td>\n",
              "      <td>...</td>\n",
              "    </tr>\n",
              "    <tr>\n",
              "      <th>995</th>\n",
              "      <td>male</td>\n",
              "      <td>group E</td>\n",
              "      <td>some college</td>\n",
              "      <td>standard</td>\n",
              "      <td>completed</td>\n",
              "      <td>99</td>\n",
              "      <td>87</td>\n",
              "      <td>81</td>\n",
              "    </tr>\n",
              "    <tr>\n",
              "      <th>996</th>\n",
              "      <td>male</td>\n",
              "      <td>group A</td>\n",
              "      <td>some college</td>\n",
              "      <td>standard</td>\n",
              "      <td>completed</td>\n",
              "      <td>100</td>\n",
              "      <td>96</td>\n",
              "      <td>86</td>\n",
              "    </tr>\n",
              "    <tr>\n",
              "      <th>997</th>\n",
              "      <td>male</td>\n",
              "      <td>group D</td>\n",
              "      <td>some college</td>\n",
              "      <td>standard</td>\n",
              "      <td>completed</td>\n",
              "      <td>100</td>\n",
              "      <td>97</td>\n",
              "      <td>99</td>\n",
              "    </tr>\n",
              "    <tr>\n",
              "      <th>998</th>\n",
              "      <td>male</td>\n",
              "      <td>group E</td>\n",
              "      <td>associate's degree</td>\n",
              "      <td>free/reduced</td>\n",
              "      <td>completed</td>\n",
              "      <td>100</td>\n",
              "      <td>100</td>\n",
              "      <td>93</td>\n",
              "    </tr>\n",
              "    <tr>\n",
              "      <th>999</th>\n",
              "      <td>male</td>\n",
              "      <td>group E</td>\n",
              "      <td>bachelor's degree</td>\n",
              "      <td>standard</td>\n",
              "      <td>completed</td>\n",
              "      <td>100</td>\n",
              "      <td>100</td>\n",
              "      <td>100</td>\n",
              "    </tr>\n",
              "  </tbody>\n",
              "</table>\n",
              "<p>231 rows × 8 columns</p>\n",
              "</div>"
            ],
            "text/plain": [
              "     gender race/ethnicity  ... reading score writing score\n",
              "430  female        group A  ...            87            91\n",
              "431  female        group B  ...            79            76\n",
              "432  female        group D  ...            82            79\n",
              "433  female        group D  ...            81            80\n",
              "434  female        group D  ...            90            93\n",
              "..      ...            ...  ...           ...           ...\n",
              "995    male        group E  ...            87            81\n",
              "996    male        group A  ...            96            86\n",
              "997    male        group D  ...            97            99\n",
              "998    male        group E  ...           100            93\n",
              "999    male        group E  ...           100           100\n",
              "\n",
              "[231 rows x 8 columns]"
            ]
          },
          "metadata": {},
          "execution_count": 40
        }
      ]
    }
  ]
}