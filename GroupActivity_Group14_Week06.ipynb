{
  "nbformat": 4,
  "nbformat_minor": 0,
  "metadata": {
    "colab": {
      "name": "GroupActivity_Group14_Week06.ipynb",
      "provenance": [],
      "authorship_tag": "ABX9TyOyNSQNYTg2V4zig8aYNuTV",
      "include_colab_link": true
    },
    "kernelspec": {
      "name": "python3",
      "display_name": "Python 3"
    },
    "language_info": {
      "name": "python"
    }
  },
  "cells": [
    {
      "cell_type": "markdown",
      "metadata": {
        "id": "view-in-github",
        "colab_type": "text"
      },
      "source": [
        "<a href=\"https://colab.research.google.com/github/veenamekkatt/DSA_Assignments/blob/main/GroupActivity_Group14_Week06.ipynb\" target=\"_parent\"><img src=\"https://colab.research.google.com/assets/colab-badge.svg\" alt=\"Open In Colab\"/></a>"
      ]
    },
    {
      "cell_type": "code",
      "metadata": {
        "colab": {
          "base_uri": "https://localhost:8080/",
          "height": 276
        },
        "id": "2GhpKehxpk-y",
        "outputId": "c56941f0-d083-4970-8bc4-e0cf592e2d6f"
      },
      "source": [
        "import pandas as pd\n",
        "import numpy as np\n",
        "import matplotlib.pyplot as plt\n",
        "import seaborn as sns\n",
        "data=pd.read_excel('/Dataset_w6.xlsx')\n",
        "data.head()"
      ],
      "execution_count": 4,
      "outputs": [
        {
          "output_type": "execute_result",
          "data": {
            "text/html": [
              "<div>\n",
              "<style scoped>\n",
              "    .dataframe tbody tr th:only-of-type {\n",
              "        vertical-align: middle;\n",
              "    }\n",
              "\n",
              "    .dataframe tbody tr th {\n",
              "        vertical-align: top;\n",
              "    }\n",
              "\n",
              "    .dataframe thead th {\n",
              "        text-align: right;\n",
              "    }\n",
              "</style>\n",
              "<table border=\"1\" class=\"dataframe\">\n",
              "  <thead>\n",
              "    <tr style=\"text-align: right;\">\n",
              "      <th></th>\n",
              "      <th>country</th>\n",
              "      <th>Region</th>\n",
              "      <th>Surface area (km2)</th>\n",
              "      <th>Population in thousands (2017)</th>\n",
              "      <th>GDP per capita (current US$)</th>\n",
              "      <th>Agricultural production index</th>\n",
              "      <th>International trade: Imports (million US$)</th>\n",
              "    </tr>\n",
              "  </thead>\n",
              "  <tbody>\n",
              "    <tr>\n",
              "      <th>0</th>\n",
              "      <td>Afghanistan</td>\n",
              "      <td>SouthernAsia</td>\n",
              "      <td>652864</td>\n",
              "      <td>35530</td>\n",
              "      <td>623.2</td>\n",
              "      <td>125</td>\n",
              "      <td>3568</td>\n",
              "    </tr>\n",
              "    <tr>\n",
              "      <th>1</th>\n",
              "      <td>Albania</td>\n",
              "      <td>SouthernEurope</td>\n",
              "      <td>28748</td>\n",
              "      <td>2930</td>\n",
              "      <td>3984.2</td>\n",
              "      <td>134</td>\n",
              "      <td>4669</td>\n",
              "    </tr>\n",
              "    <tr>\n",
              "      <th>2</th>\n",
              "      <td>Algeria</td>\n",
              "      <td>NorthernAfrica</td>\n",
              "      <td>2381741</td>\n",
              "      <td>41318</td>\n",
              "      <td>4154.1</td>\n",
              "      <td>160</td>\n",
              "      <td>47091</td>\n",
              "    </tr>\n",
              "    <tr>\n",
              "      <th>3</th>\n",
              "      <td>Angola</td>\n",
              "      <td>MiddleAfrica</td>\n",
              "      <td>1246700</td>\n",
              "      <td>29784</td>\n",
              "      <td>4714.1</td>\n",
              "      <td>175</td>\n",
              "      <td>8790</td>\n",
              "    </tr>\n",
              "    <tr>\n",
              "      <th>4</th>\n",
              "      <td>Antigua and Barbuda</td>\n",
              "      <td>Caribbean</td>\n",
              "      <td>442</td>\n",
              "      <td>102</td>\n",
              "      <td>14764.5</td>\n",
              "      <td>88</td>\n",
              "      <td>491</td>\n",
              "    </tr>\n",
              "  </tbody>\n",
              "</table>\n",
              "</div>"
            ],
            "text/plain": [
              "               country  ... International trade: Imports (million US$)\n",
              "0          Afghanistan  ...                                       3568\n",
              "1              Albania  ...                                       4669\n",
              "2              Algeria  ...                                      47091\n",
              "3               Angola  ...                                       8790\n",
              "4  Antigua and Barbuda  ...                                        491\n",
              "\n",
              "[5 rows x 7 columns]"
            ]
          },
          "metadata": {},
          "execution_count": 4
        }
      ]
    },
    {
      "cell_type": "markdown",
      "metadata": {
        "id": "SrgLopzqq-1V"
      },
      "source": [
        "# 1 Find out how many countries are there in the dataset.\n"
      ]
    },
    {
      "cell_type": "code",
      "metadata": {
        "colab": {
          "base_uri": "https://localhost:8080/"
        },
        "id": "GoTIAEnlqT5G",
        "outputId": "81fd9b8b-c033-42b8-db09-60fe718c76a8"
      },
      "source": [
        "\n",
        "data['country'].nunique()\n"
      ],
      "execution_count": 5,
      "outputs": [
        {
          "output_type": "execute_result",
          "data": {
            "text/plain": [
              "196"
            ]
          },
          "metadata": {},
          "execution_count": 5
        }
      ]
    },
    {
      "cell_type": "markdown",
      "metadata": {
        "id": "e1nhI_KWqse2"
      },
      "source": [
        "# 2 Examine the data by using visualizations.\n",
        "\n"
      ]
    },
    {
      "cell_type": "code",
      "metadata": {
        "colab": {
          "base_uri": "https://localhost:8080/",
          "height": 942
        },
        "id": "Sa6iPHH7rcPp",
        "outputId": "8f27a46d-11ea-4b56-b9db-638e369bbd89"
      },
      "source": [
        "plt.figure(figsize=(15,15))\n",
        "Region=data['Region']\n",
        "Population=data['Population in thousands (2017)']\n",
        "plot=plt.bar(Region,Population,width=.5)\n",
        "plt.title('Region wise population data')\n",
        "plt.xlabel('Region')\n",
        "plt.xticks(rotation='90')\n",
        "plt.ylabel('Population in thousands (2017)')\n",
        "plt.grid()"
      ],
      "execution_count": 14,
      "outputs": [
        {
          "output_type": "display_data",
          "data": {
            "image/png": "[encoded data removed]",
            "text/plain": [
              "<Figure size 1080x1080 with 1 Axes>"
            ]
          },
          "metadata": {
            "needs_background": "light"
          }
        }
      ]
    },
    {
      "cell_type": "markdown",
      "metadata": {
        "id": "D2KAAAwfsuH6"
      },
      "source": [
        "# 3 Find out how many countries with respect to the region are available in the dataset"
      ]
    },
    {
      "cell_type": "code",
      "metadata": {
        "colab": {
          "base_uri": "https://localhost:8080/"
        },
        "id": "7FIfRULks812",
        "outputId": "1e7ca4aa-2405-46c0-a3b3-316d3381ed43"
      },
      "source": [
        "data.groupby('Region')['country'].count()\n"
      ],
      "execution_count": 15,
      "outputs": [
        {
          "output_type": "execute_result",
          "data": {
            "text/plain": [
              "Region\n",
              "Caribbean            16\n",
              "CentralAmerica        8\n",
              "CentralAsia           5\n",
              "EasternAfrica        17\n",
              "EasternAsia           7\n",
              "EasternEurope        10\n",
              "Melanesia             5\n",
              "Micronesia            4\n",
              "MiddleAfrica          9\n",
              "NorthernAfrica        5\n",
              "NorthernAmerica       4\n",
              "NorthernEurope       10\n",
              "Oceania               2\n",
              "Polynesia             5\n",
              "South-easternAsia    11\n",
              "SouthAmerica         12\n",
              "SouthernAfrica        5\n",
              "SouthernAsia          9\n",
              "SouthernEurope       12\n",
              "WesternAfrica        15\n",
              "WesternAsia          18\n",
              "WesternEurope         7\n",
              "Name: country, dtype: int64"
            ]
          },
          "metadata": {},
          "execution_count": 15
        }
      ]
    },
    {
      "cell_type": "markdown",
      "metadata": {
        "id": "u2frwlSPtRih"
      },
      "source": [
        "# On average which region has the highest\n",
        "1. GDP per capita (current US$)\n",
        "\n",
        "2. International trade: Imports (million US$)"
      ]
    },
    {
      "cell_type": "code",
      "metadata": {
        "colab": {
          "base_uri": "https://localhost:8080/",
          "height": 739
        },
        "id": "vFrhjRfitxPk",
        "outputId": "cf940767-fda1-4939-d3e4-4150b0e89794"
      },
      "source": [
        "meanGdp =data.groupby('Region')['GDP per capita (current US$)'].mean()\n",
        "mGdP= pd.DataFrame(meanGdp).reset_index()\n",
        "mGdP"
      ],
      "execution_count": 34,
      "outputs": [
        {
          "output_type": "execute_result",
          "data": {
            "text/html": [
              "<div>\n",
              "<style scoped>\n",
              "    .dataframe tbody tr th:only-of-type {\n",
              "        vertical-align: middle;\n",
              "    }\n",
              "\n",
              "    .dataframe tbody tr th {\n",
              "        vertical-align: top;\n",
              "    }\n",
              "\n",
              "    .dataframe thead th {\n",
              "        text-align: right;\n",
              "    }\n",
              "</style>\n",
              "<table border=\"1\" class=\"dataframe\">\n",
              "  <thead>\n",
              "    <tr style=\"text-align: right;\">\n",
              "      <th></th>\n",
              "      <th>Region</th>\n",
              "      <th>GDP per capita (current US$)</th>\n",
              "    </tr>\n",
              "  </thead>\n",
              "  <tbody>\n",
              "    <tr>\n",
              "      <th>0</th>\n",
              "      <td>Caribbean</td>\n",
              "      <td>15135.562500</td>\n",
              "    </tr>\n",
              "    <tr>\n",
              "      <th>1</th>\n",
              "      <td>CentralAmerica</td>\n",
              "      <td>6348.137500</td>\n",
              "    </tr>\n",
              "    <tr>\n",
              "      <th>2</th>\n",
              "      <td>CentralAsia</td>\n",
              "      <td>4329.880000</td>\n",
              "    </tr>\n",
              "    <tr>\n",
              "      <th>3</th>\n",
              "      <td>EasternAfrica</td>\n",
              "      <td>2088.852941</td>\n",
              "    </tr>\n",
              "    <tr>\n",
              "      <th>4</th>\n",
              "      <td>EasternAsia</td>\n",
              "      <td>27967.614286</td>\n",
              "    </tr>\n",
              "    <tr>\n",
              "      <th>5</th>\n",
              "      <td>EasternEurope</td>\n",
              "      <td>9292.490000</td>\n",
              "    </tr>\n",
              "    <tr>\n",
              "      <th>6</th>\n",
              "      <td>Melanesia</td>\n",
              "      <td>9261.960000</td>\n",
              "    </tr>\n",
              "    <tr>\n",
              "      <th>7</th>\n",
              "      <td>Micronesia</td>\n",
              "      <td>5008.300000</td>\n",
              "    </tr>\n",
              "    <tr>\n",
              "      <th>8</th>\n",
              "      <td>MiddleAfrica</td>\n",
              "      <td>3928.833333</td>\n",
              "    </tr>\n",
              "    <tr>\n",
              "      <th>9</th>\n",
              "      <td>NorthernAfrica</td>\n",
              "      <td>3934.960000</td>\n",
              "    </tr>\n",
              "    <tr>\n",
              "      <th>10</th>\n",
              "      <td>NorthernAmerica</td>\n",
              "      <td>57659.000000</td>\n",
              "    </tr>\n",
              "    <tr>\n",
              "      <th>11</th>\n",
              "      <td>NorthernEurope</td>\n",
              "      <td>42098.220000</td>\n",
              "    </tr>\n",
              "    <tr>\n",
              "      <th>12</th>\n",
              "      <td>Oceania</td>\n",
              "      <td>44823.250000</td>\n",
              "    </tr>\n",
              "    <tr>\n",
              "      <th>13</th>\n",
              "      <td>Polynesia</td>\n",
              "      <td>8686.520000</td>\n",
              "    </tr>\n",
              "    <tr>\n",
              "      <th>14</th>\n",
              "      <td>South-easternAsia</td>\n",
              "      <td>10299.027273</td>\n",
              "    </tr>\n",
              "    <tr>\n",
              "      <th>15</th>\n",
              "      <td>SouthAmerica</td>\n",
              "      <td>8499.775000</td>\n",
              "    </tr>\n",
              "    <tr>\n",
              "      <th>16</th>\n",
              "      <td>SouthernAfrica</td>\n",
              "      <td>4191.900000</td>\n",
              "    </tr>\n",
              "    <tr>\n",
              "      <th>17</th>\n",
              "      <td>SouthernAsia</td>\n",
              "      <td>2968.400000</td>\n",
              "    </tr>\n",
              "    <tr>\n",
              "      <th>18</th>\n",
              "      <td>SouthernEurope</td>\n",
              "      <td>14462.741667</td>\n",
              "    </tr>\n",
              "    <tr>\n",
              "      <th>19</th>\n",
              "      <td>WesternAfrica</td>\n",
              "      <td>1013.140000</td>\n",
              "    </tr>\n",
              "    <tr>\n",
              "      <th>20</th>\n",
              "      <td>WesternAsia</td>\n",
              "      <td>17013.938889</td>\n",
              "    </tr>\n",
              "    <tr>\n",
              "      <th>21</th>\n",
              "      <td>WesternEurope</td>\n",
              "      <td>55387.128571</td>\n",
              "    </tr>\n",
              "  </tbody>\n",
              "</table>\n",
              "</div>"
            ],
            "text/plain": [
              "               Region  GDP per capita (current US$)\n",
              "0           Caribbean                  15135.562500\n",
              "1      CentralAmerica                   6348.137500\n",
              "2         CentralAsia                   4329.880000\n",
              "3       EasternAfrica                   2088.852941\n",
              "4         EasternAsia                  27967.614286\n",
              "5       EasternEurope                   9292.490000\n",
              "6           Melanesia                   9261.960000\n",
              "7          Micronesia                   5008.300000\n",
              "8        MiddleAfrica                   3928.833333\n",
              "9      NorthernAfrica                   3934.960000\n",
              "10    NorthernAmerica                  57659.000000\n",
              "11     NorthernEurope                  42098.220000\n",
              "12            Oceania                  44823.250000\n",
              "13          Polynesia                   8686.520000\n",
              "14  South-easternAsia                  10299.027273\n",
              "15       SouthAmerica                   8499.775000\n",
              "16     SouthernAfrica                   4191.900000\n",
              "17       SouthernAsia                   2968.400000\n",
              "18     SouthernEurope                  14462.741667\n",
              "19      WesternAfrica                   1013.140000\n",
              "20        WesternAsia                  17013.938889\n",
              "21      WesternEurope                  55387.128571"
            ]
          },
          "metadata": {},
          "execution_count": 34
        }
      ]
    },
    {
      "cell_type": "code",
      "metadata": {
        "colab": {
          "base_uri": "https://localhost:8080/",
          "height": 81
        },
        "id": "SH5xNqGgv3ab",
        "outputId": "80e49fb1-6383-4500-e195-7d8d615d6393"
      },
      "source": [
        "Highest_GDP = mGdP.nlargest(1,'GDP per capita (current US$)')\n",
        "Highest_GDP"
      ],
      "execution_count": 35,
      "outputs": [
        {
          "output_type": "execute_result",
          "data": {
            "text/html": [
              "<div>\n",
              "<style scoped>\n",
              "    .dataframe tbody tr th:only-of-type {\n",
              "        vertical-align: middle;\n",
              "    }\n",
              "\n",
              "    .dataframe tbody tr th {\n",
              "        vertical-align: top;\n",
              "    }\n",
              "\n",
              "    .dataframe thead th {\n",
              "        text-align: right;\n",
              "    }\n",
              "</style>\n",
              "<table border=\"1\" class=\"dataframe\">\n",
              "  <thead>\n",
              "    <tr style=\"text-align: right;\">\n",
              "      <th></th>\n",
              "      <th>Region</th>\n",
              "      <th>GDP per capita (current US$)</th>\n",
              "    </tr>\n",
              "  </thead>\n",
              "  <tbody>\n",
              "    <tr>\n",
              "      <th>10</th>\n",
              "      <td>NorthernAmerica</td>\n",
              "      <td>57659.0</td>\n",
              "    </tr>\n",
              "  </tbody>\n",
              "</table>\n",
              "</div>"
            ],
            "text/plain": [
              "             Region  GDP per capita (current US$)\n",
              "10  NorthernAmerica                       57659.0"
            ]
          },
          "metadata": {},
          "execution_count": 35
        }
      ]
    },
    {
      "cell_type": "code",
      "metadata": {
        "colab": {
          "base_uri": "https://localhost:8080/",
          "height": 739
        },
        "id": "KI6uY3ikwCFG",
        "outputId": "1414dc11-b8c1-4900-cc80-17f14a46518d"
      },
      "source": [
        "intTrade = data.groupby('Region')['International trade: Imports (million US$)'].mean()\n",
        "meanTrade = pd.DataFrame(intTrade).reset_index()\n",
        "meanTrade"
      ],
      "execution_count": 36,
      "outputs": [
        {
          "output_type": "execute_result",
          "data": {
            "text/html": [
              "<div>\n",
              "<style scoped>\n",
              "    .dataframe tbody tr th:only-of-type {\n",
              "        vertical-align: middle;\n",
              "    }\n",
              "\n",
              "    .dataframe tbody tr th {\n",
              "        vertical-align: top;\n",
              "    }\n",
              "\n",
              "    .dataframe thead th {\n",
              "        text-align: right;\n",
              "    }\n",
              "</style>\n",
              "<table border=\"1\" class=\"dataframe\">\n",
              "  <thead>\n",
              "    <tr style=\"text-align: right;\">\n",
              "      <th></th>\n",
              "      <th>Region</th>\n",
              "      <th>International trade: Imports (million US$)</th>\n",
              "    </tr>\n",
              "  </thead>\n",
              "  <tbody>\n",
              "    <tr>\n",
              "      <th>0</th>\n",
              "      <td>Caribbean</td>\n",
              "      <td>3057.312500</td>\n",
              "    </tr>\n",
              "    <tr>\n",
              "      <th>1</th>\n",
              "      <td>CentralAmerica</td>\n",
              "      <td>57031.500000</td>\n",
              "    </tr>\n",
              "    <tr>\n",
              "      <th>2</th>\n",
              "      <td>CentralAsia</td>\n",
              "      <td>12063.400000</td>\n",
              "    </tr>\n",
              "    <tr>\n",
              "      <th>3</th>\n",
              "      <td>EasternAfrica</td>\n",
              "      <td>4726.176471</td>\n",
              "    </tr>\n",
              "    <tr>\n",
              "      <th>4</th>\n",
              "      <td>EasternAsia</td>\n",
              "      <td>451995.000000</td>\n",
              "    </tr>\n",
              "    <tr>\n",
              "      <th>5</th>\n",
              "      <td>EasternEurope</td>\n",
              "      <td>85243.900000</td>\n",
              "    </tr>\n",
              "    <tr>\n",
              "      <th>6</th>\n",
              "      <td>Melanesia</td>\n",
              "      <td>2896.400000</td>\n",
              "    </tr>\n",
              "    <tr>\n",
              "      <th>7</th>\n",
              "      <td>Micronesia</td>\n",
              "      <td>99.000000</td>\n",
              "    </tr>\n",
              "    <tr>\n",
              "      <th>8</th>\n",
              "      <td>MiddleAfrica</td>\n",
              "      <td>4381.222222</td>\n",
              "    </tr>\n",
              "    <tr>\n",
              "      <th>9</th>\n",
              "      <td>NorthernAfrica</td>\n",
              "      <td>35034.400000</td>\n",
              "    </tr>\n",
              "    <tr>\n",
              "      <th>10</th>\n",
              "      <td>NorthernAmerica</td>\n",
              "      <td>663552.250000</td>\n",
              "    </tr>\n",
              "    <tr>\n",
              "      <th>11</th>\n",
              "      <td>NorthernEurope</td>\n",
              "      <td>113407.200000</td>\n",
              "    </tr>\n",
              "    <tr>\n",
              "      <th>12</th>\n",
              "      <td>Oceania</td>\n",
              "      <td>112914.500000</td>\n",
              "    </tr>\n",
              "    <tr>\n",
              "      <th>13</th>\n",
              "      <td>Polynesia</td>\n",
              "      <td>432.000000</td>\n",
              "    </tr>\n",
              "    <tr>\n",
              "      <th>14</th>\n",
              "      <td>South-easternAsia</td>\n",
              "      <td>98324.636364</td>\n",
              "    </tr>\n",
              "    <tr>\n",
              "      <th>15</th>\n",
              "      <td>SouthAmerica</td>\n",
              "      <td>32885.666667</td>\n",
              "    </tr>\n",
              "    <tr>\n",
              "      <th>16</th>\n",
              "      <td>SouthernAfrica</td>\n",
              "      <td>18005.600000</td>\n",
              "    </tr>\n",
              "    <tr>\n",
              "      <th>17</th>\n",
              "      <td>SouthernAsia</td>\n",
              "      <td>58199.333333</td>\n",
              "    </tr>\n",
              "    <tr>\n",
              "      <th>18</th>\n",
              "      <td>SouthernEurope</td>\n",
              "      <td>76666.666667</td>\n",
              "    </tr>\n",
              "    <tr>\n",
              "      <th>19</th>\n",
              "      <td>WesternAfrica</td>\n",
              "      <td>4898.333333</td>\n",
              "    </tr>\n",
              "    <tr>\n",
              "      <th>20</th>\n",
              "      <td>WesternAsia</td>\n",
              "      <td>46025.555556</td>\n",
              "    </tr>\n",
              "    <tr>\n",
              "      <th>21</th>\n",
              "      <td>WesternEurope</td>\n",
              "      <td>407498.428571</td>\n",
              "    </tr>\n",
              "  </tbody>\n",
              "</table>\n",
              "</div>"
            ],
            "text/plain": [
              "               Region  International trade: Imports (million US$)\n",
              "0           Caribbean                                 3057.312500\n",
              "1      CentralAmerica                                57031.500000\n",
              "2         CentralAsia                                12063.400000\n",
              "3       EasternAfrica                                 4726.176471\n",
              "4         EasternAsia                               451995.000000\n",
              "5       EasternEurope                                85243.900000\n",
              "6           Melanesia                                 2896.400000\n",
              "7          Micronesia                                   99.000000\n",
              "8        MiddleAfrica                                 4381.222222\n",
              "9      NorthernAfrica                                35034.400000\n",
              "10    NorthernAmerica                               663552.250000\n",
              "11     NorthernEurope                               113407.200000\n",
              "12            Oceania                               112914.500000\n",
              "13          Polynesia                                  432.000000\n",
              "14  South-easternAsia                                98324.636364\n",
              "15       SouthAmerica                                32885.666667\n",
              "16     SouthernAfrica                                18005.600000\n",
              "17       SouthernAsia                                58199.333333\n",
              "18     SouthernEurope                                76666.666667\n",
              "19      WesternAfrica                                 4898.333333\n",
              "20        WesternAsia                                46025.555556\n",
              "21      WesternEurope                               407498.428571"
            ]
          },
          "metadata": {},
          "execution_count": 36
        }
      ]
    },
    {
      "cell_type": "code",
      "metadata": {
        "colab": {
          "base_uri": "https://localhost:8080/",
          "height": 81
        },
        "id": "0Sxkh3C7wKyZ",
        "outputId": "b329e643-f792-4dad-ec74-2cfe2387cf40"
      },
      "source": [
        "Highest_Trade = meanTrade.nlargest(1,'International trade: Imports (million US$)')\n",
        "Highest_Trade"
      ],
      "execution_count": 37,
      "outputs": [
        {
          "output_type": "execute_result",
          "data": {
            "text/html": [
              "<div>\n",
              "<style scoped>\n",
              "    .dataframe tbody tr th:only-of-type {\n",
              "        vertical-align: middle;\n",
              "    }\n",
              "\n",
              "    .dataframe tbody tr th {\n",
              "        vertical-align: top;\n",
              "    }\n",
              "\n",
              "    .dataframe thead th {\n",
              "        text-align: right;\n",
              "    }\n",
              "</style>\n",
              "<table border=\"1\" class=\"dataframe\">\n",
              "  <thead>\n",
              "    <tr style=\"text-align: right;\">\n",
              "      <th></th>\n",
              "      <th>Region</th>\n",
              "      <th>International trade: Imports (million US$)</th>\n",
              "    </tr>\n",
              "  </thead>\n",
              "  <tbody>\n",
              "    <tr>\n",
              "      <th>10</th>\n",
              "      <td>NorthernAmerica</td>\n",
              "      <td>663552.25</td>\n",
              "    </tr>\n",
              "  </tbody>\n",
              "</table>\n",
              "</div>"
            ],
            "text/plain": [
              "             Region  International trade: Imports (million US$)\n",
              "10  NorthernAmerica                                   663552.25"
            ]
          },
          "metadata": {},
          "execution_count": 37
        }
      ]
    },
    {
      "cell_type": "markdown",
      "metadata": {
        "id": "D8Xqke-8whrS"
      },
      "source": [
        "## 5 Find out which region has more consistent with respect to GDP per capita (current US$"
      ]
    },
    {
      "cell_type": "code",
      "metadata": {
        "colab": {
          "base_uri": "https://localhost:8080/"
        },
        "id": "LhsMxGxBwvmv",
        "outputId": "35783664-c814-42d9-98e8-f3e3b33b23ba"
      },
      "source": [
        "stdData=data.groupby('Region')['GDP per capita (current US$)'].std().sort_values()\n",
        "stdData"
      ],
      "execution_count": 39,
      "outputs": [
        {
          "output_type": "execute_result",
          "data": {
            "text/plain": [
              "Region\n",
              "WesternAfrica          815.095399\n",
              "NorthernAfrica         974.706575\n",
              "SouthernAfrica        2177.551120\n",
              "SouthernAsia          2855.708179\n",
              "EasternAfrica         3716.131770\n",
              "CentralAsia           4152.215490\n",
              "CentralAmerica        4180.440883\n",
              "SouthAmerica          4273.707394\n",
              "Micronesia            4820.669694\n",
              "MiddleAfrica          5274.846281\n",
              "EasternEurope         5415.488739\n",
              "Polynesia             6956.250286\n",
              "Oceania               9233.329638\n",
              "SouthernEurope        9541.703216\n",
              "Melanesia            13855.842686\n",
              "Caribbean            14579.371326\n",
              "South-easternAsia    16311.810656\n",
              "WesternAsia          18812.151459\n",
              "NorthernEurope       20671.030185\n",
              "WesternEurope        24770.467728\n",
              "NorthernAmerica      25749.619445\n",
              "EasternAsia          27485.120923\n",
              "Name: GDP per capita (current US$), dtype: float64"
            ]
          },
          "metadata": {},
          "execution_count": 39
        }
      ]
    },
    {
      "cell_type": "markdown",
      "metadata": {
        "id": "d2FawjtAw9AY"
      },
      "source": [
        "**WesternAfrica has least Standard diviation, hence most consistent in terms GDP per capita**"
      ]
    }
  ]
}